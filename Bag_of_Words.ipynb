{
  "nbformat": 4,
  "nbformat_minor": 0,
  "metadata": {
    "colab": {
      "provenance": [],
      "authorship_tag": "ABX9TyMV4atMPk87A55FHNMI+MBO",
      "include_colab_link": true
    },
    "kernelspec": {
      "name": "python3",
      "display_name": "Python 3"
    },
    "language_info": {
      "name": "python"
    }
  },
  "cells": [
    {
      "cell_type": "markdown",
      "metadata": {
        "id": "view-in-github",
        "colab_type": "text"
      },
      "source": [
        "<a href=\"https://colab.research.google.com/github/abhishekbhalodiya/NLP/blob/main/Bag_of_Words.ipynb\" target=\"_parent\"><img src=\"https://colab.research.google.com/assets/colab-badge.svg\" alt=\"Open In Colab\"/></a>"
      ]
    },
    {
      "cell_type": "code",
      "execution_count": 1,
      "metadata": {
        "id": "rRh-lhiE-19G"
      },
      "outputs": [],
      "source": [
        "import nltk\n",
        "paragraph =\"Tobacco was discovered in America for the first time. Its widespread cultivation with the assistance of negro-slaves made it one of the most important export items in the American economy. Tobacco was also grown in other parts of the world, including Burma and Cuba. Cigarettes made of tobacco rolled in tissue paper aided in the spread of a very harmful habit among the West’s so-called advanced countries. It then spread to various other countries around the world. Attractive packaging and expert advertising aided in spreading the addiction to smoking cigarettes even among the poorest segments of the population.\"\n"
      ]
    },
    {
      "cell_type": "code",
      "source": [
        "#cleaning texts\n",
        "import re\n",
        "from nltk.stem import PorterStemmer\n",
        "from nltk.corpus import stopwords\n",
        "from nltk.stem import WordNetLemmatizer\n",
        "nltk.download('wordnet')\n",
        "nltk.download('punkt')\n",
        "nltk.download('stopwords')\n",
        "\n",
        "ps = PorterStemmer()\n",
        "WordNet = WordNetLemmatizer()\n",
        "sentences= nltk.sent_tokenize(paragraph)\n",
        "corpus = []\n",
        "\n",
        "for i in range(len(sentences)):\n",
        "  review = re.sub('[^a-zA-Z]', ' ', sentences[i]) #removing all unwanted comas and other symbols\n",
        "  review = review.lower()                         #lowering all cases\n",
        "  review = review.split()\n",
        "  review = [WordNet.lemmatize(word) for word in review if not word in set(stopwords.words('english'))]\n",
        "  review = ' '.join(review)\n",
        "  corpus.append(review)\n",
        "\n",
        "print(corpus)\n",
        "\n"
      ],
      "metadata": {
        "colab": {
          "base_uri": "https://localhost:8080/"
        },
        "id": "N5EZWQL5ABva",
        "outputId": "a2f48fe3-b0c8-417c-e310-702aee9e64e2"
      },
      "execution_count": 9,
      "outputs": [
        {
          "output_type": "stream",
          "name": "stderr",
          "text": [
            "[nltk_data] Downloading package wordnet to /root/nltk_data...\n",
            "[nltk_data]   Package wordnet is already up-to-date!\n",
            "[nltk_data] Downloading package punkt to /root/nltk_data...\n",
            "[nltk_data]   Package punkt is already up-to-date!\n",
            "[nltk_data] Downloading package stopwords to /root/nltk_data...\n",
            "[nltk_data]   Package stopwords is already up-to-date!\n"
          ]
        },
        {
          "output_type": "stream",
          "name": "stdout",
          "text": [
            "['tobacco discovered america first time', 'widespread cultivation assistance negro slave made one important export item american economy', 'tobacco also grown part world including burma cuba', 'cigarette made tobacco rolled tissue paper aided spread harmful habit among west called advanced country', 'spread various country around world', 'attractive packaging expert advertising aided spreading addiction smoking cigarette even among poorest segment population']\n"
          ]
        }
      ]
    },
    {
      "cell_type": "code",
      "source": [
        "# creating Bag of Words model\n",
        "\n",
        "from sklearn.feature_extraction.text import CountVectorizer\n",
        "cv = CountVectorizer()\n",
        "X = cv.fit_transform(corpus).toarray()\n",
        "print(X)\n"
      ],
      "metadata": {
        "colab": {
          "base_uri": "https://localhost:8080/"
        },
        "id": "OXGzQTXrRBuk",
        "outputId": "9220cde3-b7d4-4da7-f141-fa8dd973b735"
      },
      "execution_count": 12,
      "outputs": [
        {
          "output_type": "stream",
          "name": "stdout",
          "text": [
            "[[0 0 0 0 0 1 0 0 0 0 0 0 0 0 0 0 0 1 0 0 0 0 1 0 0 0 0 0 0 0 0 0 0 0 0 0\n",
            "  0 0 0 0 0 0 0 1 0 1 0 0 0 0]\n",
            " [0 0 0 0 0 0 1 0 0 1 0 0 0 0 0 0 1 0 1 0 0 1 0 0 0 0 1 0 1 1 1 1 0 0 0 0\n",
            "  0 0 0 1 0 0 0 0 0 0 0 0 1 0]\n",
            " [0 0 0 0 1 0 0 0 0 0 0 1 0 0 0 1 0 0 0 0 0 0 0 1 0 0 0 1 0 0 0 0 0 0 1 0\n",
            "  0 0 0 0 0 0 0 0 0 1 0 0 0 1]\n",
            " [0 1 0 1 0 0 0 1 0 0 0 0 1 1 1 0 0 0 0 0 0 0 0 0 1 1 0 0 0 1 0 0 0 1 0 0\n",
            "  0 1 0 0 0 1 0 0 1 1 0 1 0 0]\n",
            " [0 0 0 0 0 0 0 0 1 0 0 0 0 0 1 0 0 0 0 0 0 0 0 0 0 0 0 0 0 0 0 0 0 0 0 0\n",
            "  0 0 0 0 0 1 0 0 0 0 1 0 0 1]\n",
            " [1 0 1 1 0 0 0 1 0 0 1 0 0 1 0 0 0 0 0 1 1 0 0 0 0 0 0 0 0 0 0 0 1 0 0 1\n",
            "  1 0 1 0 1 0 1 0 0 0 0 0 0 0]]\n"
          ]
        }
      ]
    }
  ]
}