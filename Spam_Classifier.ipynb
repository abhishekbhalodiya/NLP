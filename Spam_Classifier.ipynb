{
  "nbformat": 4,
  "nbformat_minor": 0,
  "metadata": {
    "colab": {
      "provenance": [],
      "authorship_tag": "ABX9TyO0FfT8jwpyCLf5d7VEAzdc",
      "include_colab_link": true
    },
    "kernelspec": {
      "name": "python3",
      "display_name": "Python 3"
    },
    "language_info": {
      "name": "python"
    }
  },
  "cells": [
    {
      "cell_type": "markdown",
      "metadata": {
        "id": "view-in-github",
        "colab_type": "text"
      },
      "source": [
        "<a href=\"https://colab.research.google.com/github/abhishekbhalodiya/NLP/blob/main/Spam_Classifier.ipynb\" target=\"_parent\"><img src=\"https://colab.research.google.com/assets/colab-badge.svg\" alt=\"Open In Colab\"/></a>"
      ]
    },
    {
      "cell_type": "code",
      "source": [
        "import pandas as pd\n",
        "\n",
        "# converying the dataset in the for of dataframe containing label(spam/ham) and corresponding message\n",
        "#below file was uploaded on google collab for the session\n",
        "\n",
        "messages = pd.read_csv('/SMSSpamCollection', sep = '\\t', names = [\"label\", \"message\"])\n"
      ],
      "metadata": {
        "id": "keu4P1NElZMz"
      },
      "execution_count": 3,
      "outputs": []
    },
    {
      "cell_type": "code",
      "execution_count": 4,
      "metadata": {
        "id": "eGIk8MtvH8DV",
        "colab": {
          "base_uri": "https://localhost:8080/"
        },
        "outputId": "ae3ea474-8f57-4fa6-f707-b2c174e35f9d"
      },
      "outputs": [
        {
          "output_type": "stream",
          "name": "stderr",
          "text": [
            "[nltk_data] Downloading package wordnet to /root/nltk_data...\n",
            "[nltk_data] Downloading package punkt to /root/nltk_data...\n",
            "[nltk_data]   Unzipping tokenizers/punkt.zip.\n",
            "[nltk_data] Downloading package stopwords to /root/nltk_data...\n",
            "[nltk_data]   Unzipping corpora/stopwords.zip.\n"
          ]
        }
      ],
      "source": [
        "#cleaning texts\n",
        "import re\n",
        "import nltk\n",
        "from nltk.stem import PorterStemmer\n",
        "from nltk.corpus import stopwords\n",
        "from nltk.stem import WordNetLemmatizer\n",
        "nltk.download('wordnet')\n",
        "nltk.download('punkt')\n",
        "nltk.download('stopwords')\n",
        "\n",
        "ps = PorterStemmer()\n",
        "WordNet = WordNetLemmatizer()\n",
        "corpus = []\n",
        "\n",
        "for i in range(len(messages)):\n",
        "  review = re.sub('[^a-zA-Z]', ' ', messages['message'][i]) #removing all unwanted comas and other symbols\n",
        "  review = review.lower()                         #lowering all cases\n",
        "  review = review.split()\n",
        "  review = [ps.stem(word) for word in review if not word in set(stopwords.words('english'))]\n",
        "  review = ' '.join(review)\n",
        "  corpus.append(review)\n",
        "\n"
      ]
    },
    {
      "cell_type": "code",
      "source": [
        "# creating Bag of Words model\n",
        "\n",
        "from sklearn.feature_extraction.text import CountVectorizer\n",
        "cv = CountVectorizer(max_features=5000) #taking only first 5000 most frequent words\n",
        "X = cv.fit_transform(corpus).toarray()\n",
        "\n",
        "y = pd.get_dummies(messages['label']) #contains two colums identifying ham and spam\n",
        "y = y.iloc[:,1].values                #now converted to 1 column as if something is ham then it is not spam and vice versa\n"
      ],
      "metadata": {
        "id": "LoHxB7IJpto7"
      },
      "execution_count": 8,
      "outputs": []
    },
    {
      "cell_type": "code",
      "source": [
        "#Train Test Split\n",
        "\n",
        "from sklearn.model_selection import train_test_split\n",
        "X_train, X_test, y_train, y_test = train_test_split(X, y, test_size = 0.2, random_state = 0)"
      ],
      "metadata": {
        "id": "VZZl1aFIsUO7"
      },
      "execution_count": 9,
      "outputs": []
    },
    {
      "cell_type": "code",
      "source": [
        "from sklearn.naive_bayes import MultinomialNB      #Naive_bayes works very good with NLP Problems\n",
        "spam_detect_model= MultinomialNB().fit(X_train, y_train)\n",
        "y_pred = spam_detect_model.predict(X_test)\n"
      ],
      "metadata": {
        "id": "UoURsGg7yq0-"
      },
      "execution_count": 12,
      "outputs": []
    },
    {
      "cell_type": "code",
      "source": [
        "from sklearn.metrics import confusion_matrix\n",
        "from sklearn.metrics import accuracy_score\n",
        "confusion_m = confusion_matrix(y_test, y_pred) #confusion matrix if you want to analyse\n",
        "accuracy = accuracy_score(y_test, y_pred)   #for checking accuracy\n",
        "print(accuracy)   #to improve accuracy we can do lemmatization but will increase the time of processing.\n"
      ],
      "metadata": {
        "colab": {
          "base_uri": "https://localhost:8080/"
        },
        "id": "mnK9a_-Az0Bp",
        "outputId": "cc02e5f8-99d6-4cee-ece3-041a6328d521"
      },
      "execution_count": 13,
      "outputs": [
        {
          "output_type": "stream",
          "name": "stdout",
          "text": [
            "0.9847533632286996\n"
          ]
        }
      ]
    }
  ]
}