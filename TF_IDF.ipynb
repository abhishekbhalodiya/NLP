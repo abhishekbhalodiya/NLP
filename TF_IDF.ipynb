{
  "nbformat": 4,
  "nbformat_minor": 0,
  "metadata": {
    "colab": {
      "provenance": [],
      "authorship_tag": "ABX9TyP3dQmcEhCJ9EYe6TTHGkQq",
      "include_colab_link": true
    },
    "kernelspec": {
      "name": "python3",
      "display_name": "Python 3"
    },
    "language_info": {
      "name": "python"
    }
  },
  "cells": [
    {
      "cell_type": "markdown",
      "metadata": {
        "id": "view-in-github",
        "colab_type": "text"
      },
      "source": [
        "<a href=\"https://colab.research.google.com/github/abhishekbhalodiya/NLP/blob/main/TF_IDF.ipynb\" target=\"_parent\"><img src=\"https://colab.research.google.com/assets/colab-badge.svg\" alt=\"Open In Colab\"/></a>"
      ]
    },
    {
      "cell_type": "code",
      "execution_count": 1,
      "metadata": {
        "id": "hHnA51TSD4d7"
      },
      "outputs": [],
      "source": [
        "import nltk\n",
        "paragraph =\"Tobacco was discovered in America for the first time. Its widespread cultivation with the assistance of negro-slaves made it one of the most important export items in the American economy. Tobacco was also grown in other parts of the world, including Burma and Cuba. Cigarettes made of tobacco rolled in tissue paper aided in the spread of a very harmful habit among the West’s so-called advanced countries. It then spread to various other countries around the world. Attractive packaging and expert advertising aided in spreading the addiction to smoking cigarettes even among the poorest segments of the population.\"\n"
      ]
    },
    {
      "cell_type": "code",
      "source": [
        "#cleaning texts\n",
        "import re\n",
        "from nltk.stem import PorterStemmer\n",
        "from nltk.corpus import stopwords\n",
        "from nltk.stem import WordNetLemmatizer\n",
        "nltk.download('wordnet')\n",
        "nltk.download('punkt')\n",
        "nltk.download('stopwords')\n",
        "\n",
        "ps = PorterStemmer()\n",
        "WordNet = WordNetLemmatizer()\n",
        "sentences= nltk.sent_tokenize(paragraph)\n",
        "corpus = []\n",
        "\n",
        "for i in range(len(sentences)):\n",
        "  review = re.sub('[^a-zA-Z]', ' ', sentences[i]) #removing all unwanted comas and other symbols\n",
        "  review = review.lower()                         #lowering all cases\n",
        "  review = review.split()\n",
        "  review = [WordNet.lemmatize(word) for word in review if not word in set(stopwords.words('english'))]\n",
        "  review = ' '.join(review)\n",
        "  corpus.append(review)\n",
        "\n",
        "print(corpus)"
      ],
      "metadata": {
        "colab": {
          "base_uri": "https://localhost:8080/"
        },
        "id": "scumMVo8EGpW",
        "outputId": "e680b6c7-f736-45be-a2b9-da7e41f2d8af"
      },
      "execution_count": 2,
      "outputs": [
        {
          "output_type": "stream",
          "name": "stderr",
          "text": [
            "[nltk_data] Downloading package wordnet to /root/nltk_data...\n",
            "[nltk_data] Downloading package punkt to /root/nltk_data...\n",
            "[nltk_data]   Unzipping tokenizers/punkt.zip.\n",
            "[nltk_data] Downloading package stopwords to /root/nltk_data...\n",
            "[nltk_data]   Unzipping corpora/stopwords.zip.\n"
          ]
        },
        {
          "output_type": "stream",
          "name": "stdout",
          "text": [
            "['tobacco discovered america first time', 'widespread cultivation assistance negro slave made one important export item american economy', 'tobacco also grown part world including burma cuba', 'cigarette made tobacco rolled tissue paper aided spread harmful habit among west called advanced country', 'spread various country around world', 'attractive packaging expert advertising aided spreading addiction smoking cigarette even among poorest segment population']\n"
          ]
        }
      ]
    },
    {
      "cell_type": "code",
      "source": [
        "# creating TF-IDF Model\n",
        "\n",
        "from sklearn.feature_extraction.text import TfidfVectorizer\n",
        "tfidf = TfidfVectorizer()\n",
        "X = tfidf.fit_transform(corpus).toarray()\n",
        "print(X)"
      ],
      "metadata": {
        "colab": {
          "base_uri": "https://localhost:8080/"
        },
        "id": "itW6IIUZEKc6",
        "outputId": "8e654e80-35a0-4c21-a58f-eef3556660c8"
      },
      "execution_count": 3,
      "outputs": [
        {
          "output_type": "stream",
          "name": "stdout",
          "text": [
            "[[0.         0.         0.         0.         0.         0.47249269\n",
            "  0.         0.         0.         0.         0.         0.\n",
            "  0.         0.         0.         0.         0.         0.47249269\n",
            "  0.         0.         0.         0.         0.47249269 0.\n",
            "  0.         0.         0.         0.         0.         0.\n",
            "  0.         0.         0.         0.         0.         0.\n",
            "  0.         0.         0.         0.         0.         0.\n",
            "  0.         0.47249269 0.         0.32711256 0.         0.\n",
            "  0.         0.        ]\n",
            " [0.         0.         0.         0.         0.         0.\n",
            "  0.29269782 0.         0.         0.29269782 0.         0.\n",
            "  0.         0.         0.         0.         0.29269782 0.\n",
            "  0.29269782 0.         0.         0.29269782 0.         0.\n",
            "  0.         0.         0.29269782 0.         0.29269782 0.2400164\n",
            "  0.29269782 0.29269782 0.         0.         0.         0.\n",
            "  0.         0.         0.         0.29269782 0.         0.\n",
            "  0.         0.         0.         0.         0.         0.\n",
            "  0.29269782 0.        ]\n",
            " [0.         0.         0.         0.         0.37393382 0.\n",
            "  0.         0.         0.         0.         0.         0.37393382\n",
            "  0.         0.         0.         0.37393382 0.         0.\n",
            "  0.         0.         0.         0.         0.         0.37393382\n",
            "  0.         0.         0.         0.37393382 0.         0.\n",
            "  0.         0.         0.         0.         0.37393382 0.\n",
            "  0.         0.         0.         0.         0.         0.\n",
            "  0.         0.         0.         0.25887903 0.         0.\n",
            "  0.         0.30663108]\n",
            " [0.         0.28268629 0.         0.2318068  0.         0.\n",
            "  0.         0.2318068  0.         0.         0.         0.\n",
            "  0.28268629 0.2318068  0.2318068  0.         0.         0.\n",
            "  0.         0.         0.         0.         0.         0.\n",
            "  0.28268629 0.28268629 0.         0.         0.         0.2318068\n",
            "  0.         0.         0.         0.28268629 0.         0.\n",
            "  0.         0.28268629 0.         0.         0.         0.2318068\n",
            "  0.         0.         0.28268629 0.19570723 0.         0.28268629\n",
            "  0.         0.        ]\n",
            " [0.         0.         0.         0.         0.         0.\n",
            "  0.         0.         0.49892408 0.         0.         0.\n",
            "  0.         0.         0.40912489 0.         0.         0.\n",
            "  0.         0.         0.         0.         0.         0.\n",
            "  0.         0.         0.         0.         0.         0.\n",
            "  0.         0.         0.         0.         0.         0.\n",
            "  0.         0.         0.         0.         0.         0.40912489\n",
            "  0.         0.         0.         0.         0.49892408 0.\n",
            "  0.         0.40912489]\n",
            " [0.27716605 0.         0.27716605 0.22728013 0.         0.\n",
            "  0.         0.22728013 0.         0.         0.27716605 0.\n",
            "  0.         0.22728013 0.         0.         0.         0.\n",
            "  0.         0.27716605 0.27716605 0.         0.         0.\n",
            "  0.         0.         0.         0.         0.         0.\n",
            "  0.         0.         0.27716605 0.         0.         0.27716605\n",
            "  0.27716605 0.         0.27716605 0.         0.27716605 0.\n",
            "  0.27716605 0.         0.         0.         0.         0.\n",
            "  0.         0.        ]]\n"
          ]
        }
      ]
    }
  ]
}